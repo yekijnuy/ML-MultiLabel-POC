{
 "cells": [
  {
   "cell_type": "markdown",
   "metadata": {},
   "source": [
    "***Initial Setup***"
   ]
  },
  {
   "cell_type": "code",
   "execution_count": 18,
   "metadata": {},
   "outputs": [],
   "source": [
    "# Import Libraries\n",
    "import pandas as pd\n",
    "import numpy as np \n",
    "from sklearn.model_selection import train_test_split\n",
    "from sklearn.feature_extraction.text import TfidfVectorizer\n",
    "from sklearn.preprocessing import LabelEncoder\n",
    "import matplotlib.pyplot as plt\n",
    "import seaborn as sns\n",
    "\n",
    "import re\n",
    "from nltk.stem import WordNetLemmatizer\n",
    "from nltk.corpus import stopwords\n",
    "\n",
    "from sklearn.ensemble import RandomForestClassifier\n",
    "from sklearn.metrics import accuracy_score, classification_report\n",
    "\n",
    "from sklearn.preprocessing import MultiLabelBinarizer"
   ]
  },
  {
   "cell_type": "code",
   "execution_count": 3,
   "metadata": {},
   "outputs": [],
   "source": [
    "# Ensure plots are displayed inline within notebook\n",
    "%matplotlib inline"
   ]
  },
  {
   "cell_type": "code",
   "execution_count": 4,
   "metadata": {},
   "outputs": [
    {
     "name": "stdout",
     "output_type": "stream",
     "text": [
      "  SERVICE_JOB_ID                  DESCRIPTION           BRAND_NAME  \\\n",
      "0     SJ59932746           HOME REFRIGERATION  SAMSUNG ELECTRONICS   \n",
      "1     SJ60818568                       LAPTOP                 DELL   \n",
      "2     SJ60688618  REFRIGERATION – RESIDENTIAL           KITCHENAID   \n",
      "3     SJ65613592            VIDEO GAME PLAYER                 SONY   \n",
      "4     SJ59426407            HOME COOKING ELEC     GENERAL ELECTRIC   \n",
      "\n",
      "     MODEL_NUMBER                                PROBLEM_DESCRIPTION  \\\n",
      "0  RFG297ABWP/XAA                                             [NULL]   \n",
      "1            P90F  Problem Description: Problem Description: Prob...   \n",
      "2    KRMF706ESS01  Rework: ice maker not working, rework approved...   \n",
      "3          PS4PRO  Problem Description: not working after the pow...   \n",
      "4    JGB720SEJ5SS  Rework: damage to oven door handle on prior visit   \n",
      "\n",
      "                                 SERVICE_EXPLANATION PART_NUMBER_ORDERED  \\\n",
      "0  Customer call in for weak cooling after troubl...         DA32-10105X   \n",
      "1  REPLACED PALMREST - PASSED ALL  FUNCTION TESTS...               V5JHC   \n",
      "2  Replaced main pcb  | Claim Service Explanation...         WPW10675033   \n",
      "3  PART REPLACED - HARD DRIVE - RESTORED FACTORY ...      1TB HDD LAPTOP   \n",
      "4  Oven door handle is broken on the right side. ...          WB15X35050   \n",
      "\n",
      "             PART_DESCRIPTION  \n",
      "0                 SENSOR TEMP  \n",
      "1            PALM W/ KB  DELL  \n",
      "2                  CNTRL-ELEC  \n",
      "3  MEMORY 2.5 INCH HDD LAPTOP  \n",
      "4      STAINLESS STEEL HANDLE  \n"
     ]
    }
   ],
   "source": [
    "# Load the dataset (change to abs path if needed)\n",
    "file_path =  '/Users/key.houck/Desktop/parts-ml-poc/data/at_service_job_AT_SJ_PART_AT_SO_PRODUCT_AT_SA_SERVICE_JOB_PRODUC_202402141028.csv'\n",
    "data = pd.read_csv(file_path)\n",
    "print(data.head())"
   ]
  },
  {
   "cell_type": "code",
   "execution_count": 5,
   "metadata": {},
   "outputs": [
    {
     "name": "stdout",
     "output_type": "stream",
     "text": [
      "Dataset shape: (30632, 8)\n",
      "Columns in the dataset: ['SERVICE_JOB_ID', 'DESCRIPTION', 'BRAND_NAME', 'MODEL_NUMBER', 'PROBLEM_DESCRIPTION', 'SERVICE_EXPLANATION', 'PART_NUMBER_ORDERED', 'PART_DESCRIPTION']\n",
      "Basic statistical details:\n",
      "       SERVICE_JOB_ID        DESCRIPTION           BRAND_NAME MODEL_NUMBER  \\\n",
      "count           30632              30632                30632        30508   \n",
      "unique          15701                 66                  119         4897   \n",
      "top        SJ59582048  HOME LAUNDRY ELEC  SAMSUNG ELECTRONICS       SWITCH   \n",
      "freq               20               6657                15147          988   \n",
      "\n",
      "       PROBLEM_DESCRIPTION                                SERVICE_EXPLANATION  \\\n",
      "count                30631                                              30631   \n",
      "unique               15140                                              12103   \n",
      "top                 #NAME?  REPLACED SCREEN ASSEMBLY - CLEANED UNIT - PASS...   \n",
      "freq                    92                                                279   \n",
      "\n",
      "       PART_NUMBER_ORDERED   PART_DESCRIPTION  \n",
      "count                30631              30622  \n",
      "unique                6269               5664  \n",
      "top                   MISC  ASSEMBLY TRAY ICE  \n",
      "freq                  1266                712  \n"
     ]
    }
   ],
   "source": [
    "# Basic data exploration\n",
    "print(\"Dataset shape:\", data.shape)\n",
    "print(\"Columns in the dataset:\", data.columns.tolist())\n",
    "print(\"Basic statistical details:\")\n",
    "print(data.describe(include='all'))"
   ]
  },
  {
   "cell_type": "code",
   "execution_count": 6,
   "metadata": {},
   "outputs": [
    {
     "name": "stdout",
     "output_type": "stream",
     "text": [
      "Missing values in each column:\n",
      "SERVICE_JOB_ID           0\n",
      "DESCRIPTION              0\n",
      "BRAND_NAME               0\n",
      "MODEL_NUMBER           124\n",
      "PROBLEM_DESCRIPTION      1\n",
      "SERVICE_EXPLANATION      1\n",
      "PART_NUMBER_ORDERED      1\n",
      "PART_DESCRIPTION        10\n",
      "dtype: int64\n"
     ]
    }
   ],
   "source": [
    "# Missing Values \n",
    "print(\"Missing values in each column:\")\n",
    "print(data.isnull().sum())"
   ]
  },
  {
   "cell_type": "markdown",
   "metadata": {},
   "source": [
    "***Cleaning and Preprocessing Data***"
   ]
  },
  {
   "cell_type": "code",
   "execution_count": 7,
   "metadata": {},
   "outputs": [
    {
     "name": "stdout",
     "output_type": "stream",
     "text": [
      "\n",
      "Missing values after removal:\n",
      "SERVICE_JOB_ID         0\n",
      "DESCRIPTION            0\n",
      "BRAND_NAME             0\n",
      "MODEL_NUMBER           0\n",
      "PROBLEM_DESCRIPTION    0\n",
      "SERVICE_EXPLANATION    0\n",
      "PART_NUMBER_ORDERED    0\n",
      "PART_DESCRIPTION       0\n",
      "dtype: int64\n"
     ]
    }
   ],
   "source": [
    "# Remove data with null or na and reset index\n",
    "cleaned_data = data.dropna()\n",
    "cleaned_data.reset_index(drop=True, inplace=True)\n",
    "print(\"\\nMissing values after removal:\")\n",
    "print(cleaned_data.isnull().sum())"
   ]
  },
  {
   "cell_type": "code",
   "execution_count": 8,
   "metadata": {},
   "outputs": [
    {
     "name": "stderr",
     "output_type": "stream",
     "text": [
      "/var/folders/lj/y3wzm8f906j8cq35tg19hfth0000gr/T/ipykernel_19182/378874763.py:16: SettingWithCopyWarning: \n",
      "A value is trying to be set on a copy of a slice from a DataFrame.\n",
      "Try using .loc[row_indexer,col_indexer] = value instead\n",
      "\n",
      "See the caveats in the documentation: https://pandas.pydata.org/pandas-docs/stable/user_guide/indexing.html#returning-a-view-versus-a-copy\n",
      "  cleaned_data[col] = cleaned_data[col].apply(clean_text)\n"
     ]
    }
   ],
   "source": [
    "# Clean text for DESCRIPTION, PROBLEM_DESCRIPTION, SERVICE_DESCRIPTION\n",
    "# Convert text to lowercase and remove punctuation and numbers\n",
    "# Remove stop words and lemmatize\n",
    "def clean_text(text):\n",
    "    text = text.lower()\n",
    "    text = re.sub(r'[^a-z\\s]', '', text)\n",
    "    stop_words = set(stopwords.words('english'))\n",
    "    text = ' '.join([word for word in text.split() if word not in stop_words])\n",
    "    lemmatizer = WordNetLemmatizer()\n",
    "    text = ' '.join([lemmatizer.lemmatize(word) for word in text.split()])\n",
    "    return text\n",
    "\n",
    "# Clean text columns\n",
    "text_columns = ['DESCRIPTION', 'PROBLEM_DESCRIPTION', 'SERVICE_EXPLANATION']\n",
    "for col in text_columns:\n",
    "    cleaned_data[col] = cleaned_data[col].apply(clean_text)"
   ]
  },
  {
   "cell_type": "markdown",
   "metadata": {},
   "source": [
    "***Feature Extraction & Encoding Categorical Values***"
   ]
  },
  {
   "cell_type": "code",
   "execution_count": 9,
   "metadata": {},
   "outputs": [
    {
     "name": "stdout",
     "output_type": "stream",
     "text": [
      "Shape of 'DESCRIPTION' TF-IDF Matrix: (30499, 76)\n",
      "Shape of 'PROBLEM_DESCRIPTION' TF-IDF Matrix: (30499, 1000)\n",
      "Shape of 'SERVICE_EXPLANATION' TF-IDF Matrix: (30499, 1000)\n"
     ]
    }
   ],
   "source": [
    "# Convert text data to numerical format\n",
    "tfid_vectorizer = TfidfVectorizer(max_features=1000)\n",
    "description_tfidf = tfid_vectorizer.fit_transform(cleaned_data['DESCRIPTION'])\n",
    "problem_description_tfidf = tfid_vectorizer.fit_transform(cleaned_data['PROBLEM_DESCRIPTION'])\n",
    "service_explanation_tfidf = tfid_vectorizer.fit_transform(cleaned_data['SERVICE_EXPLANATION'])\n",
    "\n",
    "print(\"Shape of 'DESCRIPTION' TF-IDF Matrix:\", description_tfidf.shape)\n",
    "print(\"Shape of 'PROBLEM_DESCRIPTION' TF-IDF Matrix:\", problem_description_tfidf.shape)\n",
    "print(\"Shape of 'SERVICE_EXPLANATION' TF-IDF Matrix:\", service_explanation_tfidf.shape)"
   ]
  },
  {
   "cell_type": "code",
   "execution_count": 10,
   "metadata": {},
   "outputs": [
    {
     "name": "stderr",
     "output_type": "stream",
     "text": [
      "/var/folders/lj/y3wzm8f906j8cq35tg19hfth0000gr/T/ipykernel_19182/2816321826.py:3: SettingWithCopyWarning: \n",
      "A value is trying to be set on a copy of a slice from a DataFrame.\n",
      "Try using .loc[row_indexer,col_indexer] = value instead\n",
      "\n",
      "See the caveats in the documentation: https://pandas.pydata.org/pandas-docs/stable/user_guide/indexing.html#returning-a-view-versus-a-copy\n",
      "  cleaned_data['BRAND_NAME_FREQ'] = cleaned_data['BRAND_NAME'].map(brand_name_freq)\n",
      "/var/folders/lj/y3wzm8f906j8cq35tg19hfth0000gr/T/ipykernel_19182/2816321826.py:6: SettingWithCopyWarning: \n",
      "A value is trying to be set on a copy of a slice from a DataFrame.\n",
      "Try using .loc[row_indexer,col_indexer] = value instead\n",
      "\n",
      "See the caveats in the documentation: https://pandas.pydata.org/pandas-docs/stable/user_guide/indexing.html#returning-a-view-versus-a-copy\n",
      "  cleaned_data['MODEL_NUMBER_FREQ'] = cleaned_data['MODEL_NUMBER'].map(model_number_freq)\n"
     ]
    }
   ],
   "source": [
    "# Frequency encoding for BRAND_NAME and MODEL_NUMBER\n",
    "brand_name_freq = cleaned_data['BRAND_NAME'].value_counts().to_dict()\n",
    "cleaned_data['BRAND_NAME_FREQ'] = cleaned_data['BRAND_NAME'].map(brand_name_freq)\n",
    "\n",
    "model_number_freq = cleaned_data['MODEL_NUMBER'].value_counts().to_dict()\n",
    "cleaned_data['MODEL_NUMBER_FREQ'] = cleaned_data['MODEL_NUMBER'].map(model_number_freq)"
   ]
  },
  {
   "cell_type": "code",
   "execution_count": 11,
   "metadata": {},
   "outputs": [],
   "source": [
    "# TF-IDF vectors in matrix and cat in dataframe\n",
    "# Convert the TF-IDF sparse matrices to DataFrames\n",
    "description_tfidf_df = pd.DataFrame(description_tfidf.toarray(), columns=[f'descr_tfidf_{i}' for i in range(description_tfidf.shape[1])])\n",
    "problem_description_tfidf_df = pd.DataFrame(problem_description_tfidf.toarray(), columns=[f'prob_descr_tfidf_{i}' for i in range(problem_description_tfidf.shape[1])])\n",
    "service_explanation_tfidf_df = pd.DataFrame(service_explanation_tfidf.toarray(), columns=[f'serv_expl_tfidf_{i}' for i in range(service_explanation_tfidf.shape[1])])\n",
    "\n",
    "# Ensure the index matches after dropping NA rows\n",
    "description_tfidf_df.index = cleaned_data.index\n",
    "problem_description_tfidf_df.index = cleaned_data.index\n",
    "service_explanation_tfidf_df.index = cleaned_data.index\n",
    "\n",
    "# Combine the TF-IDF features with the frequency-encoded features\n",
    "features_df = pd.concat([cleaned_data[['BRAND_NAME_FREQ', 'MODEL_NUMBER_FREQ']], description_tfidf_df, problem_description_tfidf_df, service_explanation_tfidf_df], axis=1)\n",
    "\n",
    "# Define the target variable\n",
    "target = cleaned_data['PART_NUMBER_ORDERED']"
   ]
  },
  {
   "cell_type": "markdown",
   "metadata": {},
   "source": [
    "***Split and Training***"
   ]
  },
  {
   "cell_type": "code",
   "execution_count": 12,
   "metadata": {},
   "outputs": [],
   "source": [
    "# Split and Train Data\n",
    "X_train, X_test, y_train, y_test = train_test_split(features_df, target, test_size=0.2, random_state=42)\n"
   ]
  },
  {
   "cell_type": "code",
   "execution_count": 13,
   "metadata": {},
   "outputs": [],
   "source": [
    "# Ensemble technique\n",
    "# rf_model = RandomForestClassifier(random_state=42)\n",
    "\n",
    "# Train the model\n",
    "# rf_model.fit(X_train, y_train)"
   ]
  },
  {
   "cell_type": "code",
   "execution_count": 14,
   "metadata": {},
   "outputs": [],
   "source": [
    "# Predict and evaluate the model\n",
    "# y_pred = rf_model.predict(X_test)\n",
    "# print(\"Accuracy:\", accuracy_score(y_test, y_pred))\n",
    "# print(classification_report(y_test, y_pred))"
   ]
  },
  {
   "cell_type": "markdown",
   "metadata": {},
   "source": [
    "***Multi-Label Classification Attempt***"
   ]
  },
  {
   "cell_type": "code",
   "execution_count": 17,
   "metadata": {},
   "outputs": [],
   "source": [
    "# Group by 'service_job_id' and aggregate the unique 'part_number_ordered' into lists\n",
    "grouped_data = cleaned_data.groupby('SERVICE_JOB_ID').agg({\n",
    "    'PART_NUMBER_ORDERED': lambda x: list(x.unique())\n",
    "}).reset_index()"
   ]
  },
  {
   "cell_type": "markdown",
   "metadata": {},
   "source": [
    "***Prepare the Features & Encode Targets***"
   ]
  },
  {
   "cell_type": "code",
   "execution_count": 21,
   "metadata": {},
   "outputs": [
    {
     "data": {
      "text/plain": [
       "<bound method NDFrame.head of        BRAND_NAME_FREQ  MODEL_NUMBER_FREQ  descr_tfidf_0  descr_tfidf_1  \\\n",
       "0                15119                  1            0.0            0.0   \n",
       "1                  472                 27            0.0            0.0   \n",
       "2                  273                 29            0.0            0.0   \n",
       "3                  687                 20            0.0            0.0   \n",
       "4                 2539                  1            0.0            0.0   \n",
       "...                ...                ...            ...            ...   \n",
       "30494             1541                  4            0.0            0.0   \n",
       "30495            15119                146            0.0            0.0   \n",
       "30496            15119                146            0.0            0.0   \n",
       "30497            15119                146            0.0            0.0   \n",
       "30498            15119                146            0.0            0.0   \n",
       "\n",
       "       descr_tfidf_2  descr_tfidf_3  descr_tfidf_4  descr_tfidf_5  \\\n",
       "0                0.0            0.0            0.0            0.0   \n",
       "1                0.0            0.0            0.0            0.0   \n",
       "2                0.0            0.0            0.0            0.0   \n",
       "3                0.0            0.0            0.0            0.0   \n",
       "4                0.0            0.0            0.0            0.0   \n",
       "...              ...            ...            ...            ...   \n",
       "30494            0.0            0.0            0.0            0.0   \n",
       "30495            0.0            0.0            0.0            0.0   \n",
       "30496            0.0            0.0            0.0            0.0   \n",
       "30497            0.0            0.0            0.0            0.0   \n",
       "30498            0.0            0.0            0.0            0.0   \n",
       "\n",
       "       descr_tfidf_6  descr_tfidf_7  ...  serv_expl_tfidf_990  \\\n",
       "0                0.0            0.0  ...                  0.0   \n",
       "1                0.0            0.0  ...                  0.0   \n",
       "2                0.0            0.0  ...                  0.0   \n",
       "3                0.0            0.0  ...                  0.0   \n",
       "4                0.0            0.0  ...                  0.0   \n",
       "...              ...            ...  ...                  ...   \n",
       "30494            0.0            0.0  ...                  0.0   \n",
       "30495            0.0            0.0  ...                  0.0   \n",
       "30496            0.0            0.0  ...                  0.0   \n",
       "30497            0.0            0.0  ...                  0.0   \n",
       "30498            0.0            0.0  ...                  0.0   \n",
       "\n",
       "       serv_expl_tfidf_991  serv_expl_tfidf_992  serv_expl_tfidf_993  \\\n",
       "0                      0.0                  0.0                  0.0   \n",
       "1                      0.0                  0.0                  0.0   \n",
       "2                      0.0                  0.0                  0.0   \n",
       "3                      0.0                  0.0                  0.0   \n",
       "4                      0.0                  0.0                  0.0   \n",
       "...                    ...                  ...                  ...   \n",
       "30494                  0.0                  0.0                  0.0   \n",
       "30495                  0.0                  0.0                  0.0   \n",
       "30496                  0.0                  0.0                  0.0   \n",
       "30497                  0.0                  0.0                  0.0   \n",
       "30498                  0.0                  0.0                  0.0   \n",
       "\n",
       "       serv_expl_tfidf_994  serv_expl_tfidf_995  serv_expl_tfidf_996  \\\n",
       "0                      0.0                  0.0                  0.0   \n",
       "1                      0.0                  0.0                  0.0   \n",
       "2                      0.0                  0.0                  0.0   \n",
       "3                      0.0                  0.0                  0.0   \n",
       "4                      0.0                  0.0                  0.0   \n",
       "...                    ...                  ...                  ...   \n",
       "30494                  0.0                  0.0                  0.0   \n",
       "30495                  0.0                  0.0                  0.0   \n",
       "30496                  0.0                  0.0                  0.0   \n",
       "30497                  0.0                  0.0                  0.0   \n",
       "30498                  0.0                  0.0                  0.0   \n",
       "\n",
       "       serv_expl_tfidf_997  serv_expl_tfidf_998  serv_expl_tfidf_999  \n",
       "0                      0.0                  0.0                  0.0  \n",
       "1                      0.0                  0.0                  0.0  \n",
       "2                      0.0                  0.0                  0.0  \n",
       "3                      0.0                  0.0                  0.0  \n",
       "4                      0.0                  0.0                  0.0  \n",
       "...                    ...                  ...                  ...  \n",
       "30494                  0.0                  0.0                  0.0  \n",
       "30495                  0.0                  0.0                  0.0  \n",
       "30496                  0.0                  0.0                  0.0  \n",
       "30497                  0.0                  0.0                  0.0  \n",
       "30498                  0.0                  0.0                  0.0  \n",
       "\n",
       "[30499 rows x 2078 columns]>"
      ]
     },
     "execution_count": 21,
     "metadata": {},
     "output_type": "execute_result"
    }
   ],
   "source": [
    "# Join the features with the grouped data to ensure each 'SERVICE_JOB_ID' matches its features\n",
    "prepared_features = grouped_data.join(features_df.set_index('SERVICE_JOB_ID'), on='SERVICE_JOB_ID')"
   ]
  },
  {
   "cell_type": "code",
   "execution_count": null,
   "metadata": {},
   "outputs": [],
   "source": []
  }
 ],
 "metadata": {
  "kernelspec": {
   "display_name": "Python 3",
   "language": "python",
   "name": "python3"
  },
  "language_info": {
   "codemirror_mode": {
    "name": "ipython",
    "version": 3
   },
   "file_extension": ".py",
   "mimetype": "text/x-python",
   "name": "python",
   "nbconvert_exporter": "python",
   "pygments_lexer": "ipython3",
   "version": "3.11.5"
  }
 },
 "nbformat": 4,
 "nbformat_minor": 2
}
